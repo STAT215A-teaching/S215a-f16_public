{
 "cells": [
  {
   "cell_type": "markdown",
   "metadata": {
    "deletable": false,
    "nbgrader": {
     "checksum": "39c00ce92b9a05e88d007b1a191ef558",
     "grade": false,
     "grade_id": "title",
     "locked": true,
     "solution": false
    }
   },
   "source": [
    "## Assignment 1 (Due 5 September 2016 by 11:59pm)"
   ]
  },
  {
   "cell_type": "markdown",
   "metadata": {
    "deletable": false,
    "nbgrader": {
     "checksum": "be0a70b193a84a7b4ac54fb603cef4f2",
     "grade": false,
     "grade_id": "part_a",
     "locked": true,
     "solution": false
    }
   },
   "source": [
    "---\n",
    "## Part a (8 points)\n",
    "Freedman, SMTP, problems 4.B.7, 4.B.8, 4.B.11, 4.5.3, 4.5.5, 4.5.6,\n",
    "4.5.10, 4.5.11."
   ]
  },
  {
   "cell_type": "markdown",
   "metadata": {
    "deletable": false,
    "nbgrader": {
     "checksum": "0d2d5e2cd3fd184865c81462c359921b",
     "grade": false,
     "grade_id": "a_4B7",
     "locked": true,
     "solution": false
    }
   },
   "source": [
    "**4.B.7.** "
   ]
  },
  {
   "cell_type": "markdown",
   "metadata": {
    "deletable": false,
    "nbgrader": {
     "checksum": "63bf4878615b61f63cc67d8c4e082836",
     "grade": true,
     "grade_id": "a_4B7_sol",
     "locked": false,
     "points": 1,
     "solution": true
    }
   },
   "source": [
    "YOUR ANSWER HERE"
   ]
  },
  {
   "cell_type": "markdown",
   "metadata": {
    "deletable": false,
    "nbgrader": {
     "checksum": "4b2bfc8df8d3cec7681247936d0952bf",
     "grade": false,
     "grade_id": "a_4B8",
     "locked": true,
     "solution": false
    }
   },
   "source": [
    "**4.B.8.** "
   ]
  },
  {
   "cell_type": "markdown",
   "metadata": {
    "deletable": false,
    "nbgrader": {
     "checksum": "60cf5ebacab5c2cf4f2353f16ffedd7e",
     "grade": true,
     "grade_id": "a_4B8_sol",
     "locked": false,
     "points": 1,
     "solution": true
    }
   },
   "source": [
    "YOUR ANSWER HERE"
   ]
  },
  {
   "cell_type": "markdown",
   "metadata": {
    "deletable": false,
    "nbgrader": {
     "checksum": "1b1c5fdee5744b5d4f92a9a662e4319f",
     "grade": false,
     "grade_id": "a_4B11",
     "locked": true,
     "solution": false
    }
   },
   "source": [
    "**4.B.11.** "
   ]
  },
  {
   "cell_type": "markdown",
   "metadata": {
    "deletable": false,
    "nbgrader": {
     "checksum": "d0c3f85fb7cbdb41da9ae1f90a8932ea",
     "grade": true,
     "grade_id": "a_4B11_sol",
     "locked": false,
     "points": 1,
     "solution": true
    }
   },
   "source": [
    "YOUR ANSWER HERE"
   ]
  },
  {
   "cell_type": "markdown",
   "metadata": {
    "deletable": false,
    "nbgrader": {
     "checksum": "2114150dfcca2de4e1f1bf56c10754a5",
     "grade": false,
     "grade_id": "a_453",
     "locked": true,
     "solution": false
    }
   },
   "source": [
    "**4.5.3.** \n"
   ]
  },
  {
   "cell_type": "markdown",
   "metadata": {
    "deletable": false,
    "nbgrader": {
     "checksum": "58aee236df97db94039ab44c17ca7ef0",
     "grade": true,
     "grade_id": "a_453_sol",
     "locked": false,
     "points": 1,
     "solution": true
    }
   },
   "source": [
    "YOUR ANSWER HERE"
   ]
  },
  {
   "cell_type": "markdown",
   "metadata": {
    "deletable": false,
    "nbgrader": {
     "checksum": "09d5e42099883b38ae2ec0ff6780e219",
     "grade": false,
     "grade_id": "a_455",
     "locked": true,
     "solution": false
    }
   },
   "source": [
    "**4.5.5.** "
   ]
  },
  {
   "cell_type": "markdown",
   "metadata": {
    "deletable": false,
    "nbgrader": {
     "checksum": "d910d48256c8fabed3620f4e041a22d1",
     "grade": true,
     "grade_id": "a_455_sol",
     "locked": false,
     "points": 1,
     "solution": true
    }
   },
   "source": [
    "YOUR ANSWER HERE"
   ]
  },
  {
   "cell_type": "markdown",
   "metadata": {
    "deletable": false,
    "nbgrader": {
     "checksum": "2fad05c8c9c6a44f36821d902c524b1c",
     "grade": false,
     "grade_id": "a_456",
     "locked": true,
     "solution": false
    }
   },
   "source": [
    "**4.5.6.** "
   ]
  },
  {
   "cell_type": "markdown",
   "metadata": {
    "deletable": false,
    "nbgrader": {
     "checksum": "c637ee47ef22a4a4b58d1fe5578b1f17",
     "grade": true,
     "grade_id": "a_456_sol",
     "locked": false,
     "points": 1,
     "solution": true
    }
   },
   "source": [
    "YOUR ANSWER HERE"
   ]
  },
  {
   "cell_type": "markdown",
   "metadata": {
    "deletable": false,
    "nbgrader": {
     "checksum": "1cd98ca84eef6b85367862407a3e2a7b",
     "grade": false,
     "grade_id": "a_4510",
     "locked": true,
     "solution": false
    }
   },
   "source": [
    "**4.5.10.** "
   ]
  },
  {
   "cell_type": "markdown",
   "metadata": {
    "deletable": false,
    "nbgrader": {
     "checksum": "a8e8e334fc86769f6c0479c14ab2c615",
     "grade": true,
     "grade_id": "a_4510_sol",
     "locked": false,
     "points": 1,
     "solution": true
    }
   },
   "source": [
    "YOUR ANSWER HERE"
   ]
  },
  {
   "cell_type": "markdown",
   "metadata": {
    "deletable": false,
    "nbgrader": {
     "checksum": "af48ec6eacf76d934dd048b7ce4749a0",
     "grade": false,
     "grade_id": "a_4511",
     "locked": true,
     "solution": false
    }
   },
   "source": [
    "**4.5.11.** "
   ]
  },
  {
   "cell_type": "markdown",
   "metadata": {
    "deletable": false,
    "nbgrader": {
     "checksum": "d61bc91ac17dd15d07dc4d617ed462f2",
     "grade": true,
     "grade_id": "a_4511_sol",
     "locked": false,
     "points": 1,
     "solution": true
    }
   },
   "source": [
    "YOUR ANSWER HERE"
   ]
  },
  {
   "cell_type": "markdown",
   "metadata": {
    "deletable": false,
    "nbgrader": {
     "checksum": "264a74edc0edba359a71f6db1b17e37b",
     "grade": false,
     "grade_id": "part_b",
     "locked": true,
     "solution": false
    }
   },
   "source": [
    "---\n",
    "## Part b (2 points)\n",
    "Give an example where floating point addition is not associative."
   ]
  },
  {
   "cell_type": "code",
   "execution_count": null,
   "metadata": {
    "collapsed": false,
    "deletable": false,
    "nbgrader": {
     "checksum": "00dc1bdf3e0432fd28c4b81ea9eac651",
     "grade": false,
     "grade_id": "b_float",
     "locked": false,
     "points": 0,
     "solution": true
    }
   },
   "outputs": [],
   "source": [
    "def example_float_associative():\n",
    "    \"\"\" Assign values to a, b, c, show that float point addition\n",
    "    is sometimes associative\n",
    "    a = \n",
    "    b = \n",
    "    c = \n",
    "    \"\"\"\n",
    "    # YOUR CODE HERE\n",
    "    raise NotImplementedError()\n",
    "    return (a + b) + c == a + (b + c)"
   ]
  },
  {
   "cell_type": "code",
   "execution_count": null,
   "metadata": {
    "collapsed": false,
    "deletable": false,
    "nbgrader": {
     "checksum": "4408c48b782061c331b3b779d316a686",
     "grade": false,
     "grade_id": "b_float2",
     "locked": false,
     "solution": true
    }
   },
   "outputs": [],
   "source": [
    "def example_float_non_associative():\n",
    "    \"\"\" Assign values to a, b, c, show that float point addition\n",
    "    can be non-associative\n",
    "    a = \n",
    "    b = \n",
    "    c = \n",
    "    \"\"\"\n",
    "    # YOUR CODE HERE\n",
    "    raise NotImplementedError()\n",
    "    return (a + b) + c == a + (b + c)"
   ]
  },
  {
   "cell_type": "code",
   "execution_count": null,
   "metadata": {
    "collapsed": false,
    "deletable": false,
    "nbgrader": {
     "checksum": "fa74dba782583bb7142d78de01b525c8",
     "grade": true,
     "grade_id": "b_float_grade",
     "points": 2
    }
   },
   "outputs": [],
   "source": [
    "\"\"\"Check that squares returns the correct output for several inputs\"\"\"\n",
    "assert example_float_associative()\n",
    "assert not example_float_non_associative()"
   ]
  },
  {
   "cell_type": "markdown",
   "metadata": {
    "deletable": false,
    "nbgrader": {
     "checksum": "9ed5f49641d46883d0aa5e9e785e1baa",
     "grade": false,
     "grade_id": "part_c",
     "locked": true,
     "solution": false
    }
   },
   "source": [
    "---\n",
    "## Part c (2 points)\n",
    "Explain the Kahan Summation Formula in your own words, and explain why it is important."
   ]
  },
  {
   "cell_type": "markdown",
   "metadata": {
    "deletable": false,
    "nbgrader": {
     "checksum": "5ffb085cd6ac760b7903e362e4cbb73e",
     "grade": true,
     "grade_id": "c_sol",
     "locked": false,
     "points": 2,
     "solution": true
    }
   },
   "source": [
    "YOUR ANSWER HERE"
   ]
  },
  {
   "cell_type": "markdown",
   "metadata": {
    "deletable": false,
    "nbgrader": {
     "checksum": "1ab3ba8d822f329c2ed953049c2ee6d6",
     "grade": false,
     "grade_id": "part_d",
     "locked": true,
     "solution": false
    }
   },
   "source": [
    "---\n",
    "## Part d (2 points)\n",
    "Explain why the condition number of a linear system matters."
   ]
  },
  {
   "cell_type": "markdown",
   "metadata": {
    "deletable": false,
    "nbgrader": {
     "checksum": "9c443f9a0368fc7f5efbf1f2b79665a4",
     "grade": true,
     "grade_id": "d_sol",
     "locked": false,
     "points": 2,
     "solution": true
    }
   },
   "source": [
    "YOUR ANSWER HERE"
   ]
  },
  {
   "cell_type": "markdown",
   "metadata": {
    "deletable": false,
    "nbgrader": {
     "checksum": "fea9ad3b5d3d03dd2c7cb0e024de6cfa",
     "grade": false,
     "grade_id": "part_e",
     "locked": true,
     "solution": false
    }
   },
   "source": [
    "---\n",
    "## Part e (2 points)\n",
    "Suppose that $A$ is a positive definite square matrix. \n",
    "\n",
    "Prove algebraically\n",
    "that solving the linear system $Ax=y$ by calculating $A^{-1}y$ squares\n",
    "the condition number.\n",
    "\n",
    "(Hint: calculating $A^{-1}y$ is a two-step procedure)"
   ]
  },
  {
   "cell_type": "markdown",
   "metadata": {
    "deletable": false,
    "nbgrader": {
     "checksum": "8e8e7387b66ba26bb84798c27c9c695e",
     "grade": true,
     "grade_id": "e_sol",
     "locked": false,
     "points": 2,
     "solution": true
    }
   },
   "source": [
    "YOUR ANSWER HERE"
   ]
  },
  {
   "cell_type": "markdown",
   "metadata": {
    "deletable": false,
    "nbgrader": {
     "checksum": "812f1700b12a416e53074e3e61116835",
     "grade": false,
     "grade_id": "part_f",
     "locked": true,
     "solution": false
    }
   },
   "source": [
    "---\n",
    "## Part f (2 points)\n",
    "Under what circumstances does it make sense to invert a matrix numerically\n",
    "rather than solve a linear system by factorization, Gaussian\n",
    "elimination, back-substitution, or a similar method?"
   ]
  },
  {
   "cell_type": "markdown",
   "metadata": {
    "deletable": false,
    "nbgrader": {
     "checksum": "6d1055750ebdd394663dc3daf5428ec4",
     "grade": true,
     "grade_id": "f_sol",
     "locked": false,
     "points": 2,
     "solution": true
    }
   },
   "source": [
    "YOUR ANSWER HERE"
   ]
  }
 ],
 "metadata": {
  "anaconda-cloud": {},
  "kernelspec": {
   "display_name": "Python [default]",
   "language": "python",
   "name": "python2"
  },
  "language_info": {
   "codemirror_mode": {
    "name": "ipython",
    "version": 2
   },
   "file_extension": ".py",
   "mimetype": "text/x-python",
   "name": "python",
   "nbconvert_exporter": "python",
   "pygments_lexer": "ipython2",
   "version": "2.7.11"
  }
 },
 "nbformat": 4,
 "nbformat_minor": 0
}
